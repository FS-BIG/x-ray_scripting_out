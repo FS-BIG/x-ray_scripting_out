{
 "cells": [
  {
   "cell_type": "markdown",
   "metadata": {},
   "source": [
    "## Plots from X-ray absorption calculations using ORCA"
   ]
  },
  {
   "cell_type": "code",
   "execution_count": 2,
   "metadata": {},
   "outputs": [],
   "source": [
    "import numpy as np\n",
    "import pandas as pd\n",
    "import matplotlib.pyplot as plt\n",
    "import matplotlib\n",
    "import csv as csv\n",
    "from matplotlib.pyplot import figure\n",
    "from __future__ import print_function\n",
    "from matplotlib.backends.backend_agg import FigureCanvasAgg as FigureCanvas\n",
    "from matplotlib.figure import Figure"
   ]
  },
  {
   "cell_type": "markdown",
   "metadata": {},
   "source": [
    "____________________________"
   ]
  },
  {
   "cell_type": "code",
   "execution_count": 3,
   "metadata": {},
   "outputs": [],
   "source": [
    "from scipy.optimize import leastsq\n",
    "from scipy.optimize import curve_fit\n",
    "from scipy.signal import find_peaks"
   ]
  },
  {
   "cell_type": "code",
   "execution_count": 4,
   "metadata": {},
   "outputs": [],
   "source": [
    "plt.rcParams['axes.labelsize'] = 24\n",
    "plt.rcParams['axes.titlesize'] = 24"
   ]
  },
  {
   "cell_type": "markdown",
   "metadata": {},
   "source": [
    "--------------"
   ]
  },
  {
   "cell_type": "markdown",
   "metadata": {},
   "source": [
    "### X-ray absorption spectra calculated using PNO-DFT/ROCIS zora\n",
    "\n",
    "#### Pair amino acid interaction between phenylalanine (F) and tyronise (Y)"
   ]
  },
  {
   "cell_type": "markdown",
   "metadata": {},
   "source": [
    "##### System of study: Phe $---$Tyr (varying inter fragment distances)"
   ]
  },
  {
   "cell_type": "markdown",
   "metadata": {},
   "source": [
    "### Header test"
   ]
  },
  {
   "cell_type": "code",
   "execution_count": 5,
   "metadata": {},
   "outputs": [
    {
     "data": {
      "text/html": [
       "<div>\n",
       "<style scoped>\n",
       "    .dataframe tbody tr th:only-of-type {\n",
       "        vertical-align: middle;\n",
       "    }\n",
       "\n",
       "    .dataframe tbody tr th {\n",
       "        vertical-align: top;\n",
       "    }\n",
       "\n",
       "    .dataframe thead th {\n",
       "        text-align: right;\n",
       "    }\n",
       "</style>\n",
       "<table border=\"1\" class=\"dataframe\">\n",
       "  <thead>\n",
       "    <tr style=\"text-align: right;\">\n",
       "      <th></th>\n",
       "      <th>Energy</th>\n",
       "      <th>Intensity</th>\n",
       "      <th>dx</th>\n",
       "      <th>dy</th>\n",
       "      <th>dz</th>\n",
       "    </tr>\n",
       "  </thead>\n",
       "  <tbody>\n",
       "    <tr>\n",
       "      <th>0</th>\n",
       "      <td>288.02</td>\n",
       "      <td>0.000000</td>\n",
       "      <td>0.000000</td>\n",
       "      <td>0.000000</td>\n",
       "      <td>0.000000</td>\n",
       "    </tr>\n",
       "    <tr>\n",
       "      <th>1</th>\n",
       "      <td>288.04</td>\n",
       "      <td>0.000000</td>\n",
       "      <td>0.000000</td>\n",
       "      <td>0.000000</td>\n",
       "      <td>0.000000</td>\n",
       "    </tr>\n",
       "    <tr>\n",
       "      <th>2</th>\n",
       "      <td>288.06</td>\n",
       "      <td>0.000000</td>\n",
       "      <td>0.000000</td>\n",
       "      <td>0.000000</td>\n",
       "      <td>0.000000</td>\n",
       "    </tr>\n",
       "    <tr>\n",
       "      <th>3</th>\n",
       "      <td>288.08</td>\n",
       "      <td>0.000000</td>\n",
       "      <td>0.000000</td>\n",
       "      <td>0.000000</td>\n",
       "      <td>0.000000</td>\n",
       "    </tr>\n",
       "    <tr>\n",
       "      <th>4</th>\n",
       "      <td>288.10</td>\n",
       "      <td>0.000000</td>\n",
       "      <td>0.000000</td>\n",
       "      <td>0.000000</td>\n",
       "      <td>0.000000</td>\n",
       "    </tr>\n",
       "    <tr>\n",
       "      <th>...</th>\n",
       "      <td>...</td>\n",
       "      <td>...</td>\n",
       "      <td>...</td>\n",
       "      <td>...</td>\n",
       "      <td>...</td>\n",
       "    </tr>\n",
       "    <tr>\n",
       "      <th>2994</th>\n",
       "      <td>348.92</td>\n",
       "      <td>10.573084</td>\n",
       "      <td>9.978289</td>\n",
       "      <td>0.217154</td>\n",
       "      <td>0.377642</td>\n",
       "    </tr>\n",
       "    <tr>\n",
       "      <th>2995</th>\n",
       "      <td>348.94</td>\n",
       "      <td>9.073653</td>\n",
       "      <td>8.563040</td>\n",
       "      <td>0.186333</td>\n",
       "      <td>0.324280</td>\n",
       "    </tr>\n",
       "    <tr>\n",
       "      <th>2996</th>\n",
       "      <td>348.96</td>\n",
       "      <td>7.737489</td>\n",
       "      <td>7.301925</td>\n",
       "      <td>0.158874</td>\n",
       "      <td>0.276691</td>\n",
       "    </tr>\n",
       "    <tr>\n",
       "      <th>2997</th>\n",
       "      <td>348.98</td>\n",
       "      <td>6.556246</td>\n",
       "      <td>6.187057</td>\n",
       "      <td>0.134602</td>\n",
       "      <td>0.234586</td>\n",
       "    </tr>\n",
       "    <tr>\n",
       "      <th>2998</th>\n",
       "      <td>349.00</td>\n",
       "      <td>5.520109</td>\n",
       "      <td>5.209167</td>\n",
       "      <td>0.113315</td>\n",
       "      <td>0.197626</td>\n",
       "    </tr>\n",
       "  </tbody>\n",
       "</table>\n",
       "<p>2999 rows × 5 columns</p>\n",
       "</div>"
      ],
      "text/plain": [
       "      Energy  Intensity        dx        dy        dz\n",
       "0     288.02   0.000000  0.000000  0.000000  0.000000\n",
       "1     288.04   0.000000  0.000000  0.000000  0.000000\n",
       "2     288.06   0.000000  0.000000  0.000000  0.000000\n",
       "3     288.08   0.000000  0.000000  0.000000  0.000000\n",
       "4     288.10   0.000000  0.000000  0.000000  0.000000\n",
       "...      ...        ...       ...       ...       ...\n",
       "2994  348.92  10.573084  9.978289  0.217154  0.377642\n",
       "2995  348.94   9.073653  8.563040  0.186333  0.324280\n",
       "2996  348.96   7.737489  7.301925  0.158874  0.276691\n",
       "2997  348.98   6.556246  6.187057  0.134602  0.234586\n",
       "2998  349.00   5.520109  5.209167  0.113315  0.197626\n",
       "\n",
       "[2999 rows x 5 columns]"
      ]
     },
     "execution_count": 5,
     "metadata": {},
     "output_type": "execute_result"
    }
   ],
   "source": [
    "fy_25 = pd.read_csv('AB_2.5A.csv', delimiter=',')\n",
    "fy_25.head()\n",
    "fy_25.columns = ['Energy', 'Intensity', 'dx', 'dy', 'dz']\n",
    "fy_25"
   ]
  },
  {
   "cell_type": "markdown",
   "metadata": {},
   "source": [
    "##### dx,dy and dz correspond to the x-, y- and z-components of the transition moment (d)"
   ]
  },
  {
   "cell_type": "markdown",
   "metadata": {},
   "source": [
    "### F$---$Y ( $n=2.5, 3.0, ..., 11.0 \\overset{\\circ}{A}$  )\n",
    "#### optimized at PM7"
   ]
  },
  {
   "cell_type": "code",
   "execution_count": 6,
   "metadata": {},
   "outputs": [
    {
     "ename": "FileNotFoundError",
     "evalue": "[Errno 2] No such file or directory: 'AB_3.0A.csv'",
     "output_type": "error",
     "traceback": [
      "\u001b[0;31m---------------------------------------------------------------------------\u001b[0m",
      "\u001b[0;31mFileNotFoundError\u001b[0m                         Traceback (most recent call last)",
      "Input \u001b[0;32mIn [6]\u001b[0m, in \u001b[0;36m<cell line: 6>\u001b[0;34m()\u001b[0m\n\u001b[1;32m      5\u001b[0m \u001b[38;5;66;03m#csv_suf = [i/10 for i in list_suf]\u001b[39;00m\n\u001b[1;32m      6\u001b[0m \u001b[38;5;28;01mfor\u001b[39;00m ii \u001b[38;5;129;01min\u001b[39;00m list_suf:\n\u001b[0;32m----> 7\u001b[0m     \u001b[38;5;28mglobals\u001b[39m()[\u001b[38;5;124m'\u001b[39m\u001b[38;5;124mfy_\u001b[39m\u001b[38;5;132;01m%s\u001b[39;00m\u001b[38;5;124m'\u001b[39m \u001b[38;5;241m%\u001b[39m \u001b[38;5;28mstr\u001b[39m(ii)] \u001b[38;5;241m=\u001b[39m \u001b[43mpd\u001b[49m\u001b[38;5;241;43m.\u001b[39;49m\u001b[43mread_csv\u001b[49m\u001b[43m(\u001b[49m\u001b[43mfile\u001b[49m\u001b[38;5;241;43m+\u001b[39;49m\u001b[38;5;124;43m'\u001b[39;49m\u001b[38;5;124;43mAB_\u001b[39;49m\u001b[38;5;124;43m'\u001b[39;49m\u001b[38;5;241;43m+\u001b[39;49m\u001b[38;5;28;43mstr\u001b[39;49m\u001b[43m(\u001b[49m\u001b[43mii\u001b[49m\u001b[38;5;241;43m/\u001b[39;49m\u001b[38;5;241;43m10\u001b[39;49m\u001b[43m)\u001b[49m\u001b[38;5;241;43m+\u001b[39;49m\u001b[38;5;124;43m'\u001b[39;49m\u001b[38;5;124;43mA\u001b[39;49m\u001b[38;5;124;43m'\u001b[39;49m\u001b[38;5;241;43m+\u001b[39;49m\u001b[43mpost\u001b[49m\u001b[43m,\u001b[49m\u001b[43m \u001b[49m\u001b[43mdelimiter\u001b[49m\u001b[38;5;241;43m=\u001b[39;49m\u001b[38;5;124;43m'\u001b[39;49m\u001b[38;5;124;43m,\u001b[39;49m\u001b[38;5;124;43m'\u001b[39;49m\u001b[43m)\u001b[49m\n\u001b[1;32m      8\u001b[0m     \u001b[38;5;28mglobals\u001b[39m()[\u001b[38;5;124m'\u001b[39m\u001b[38;5;124mfy_\u001b[39m\u001b[38;5;132;01m%s\u001b[39;00m\u001b[38;5;124m'\u001b[39m \u001b[38;5;241m%\u001b[39m \u001b[38;5;28mstr\u001b[39m(ii)]\u001b[38;5;241m.\u001b[39mcolumns \u001b[38;5;241m=\u001b[39m [\u001b[38;5;124m'\u001b[39m\u001b[38;5;124mEnergy\u001b[39m\u001b[38;5;124m'\u001b[39m, \u001b[38;5;124m'\u001b[39m\u001b[38;5;124mIntensity\u001b[39m\u001b[38;5;124m'\u001b[39m, \u001b[38;5;124m'\u001b[39m\u001b[38;5;124mdx\u001b[39m\u001b[38;5;124m'\u001b[39m, \u001b[38;5;124m'\u001b[39m\u001b[38;5;124mdy\u001b[39m\u001b[38;5;124m'\u001b[39m, \u001b[38;5;124m'\u001b[39m\u001b[38;5;124mdz\u001b[39m\u001b[38;5;124m'\u001b[39m]\n\u001b[1;32m      9\u001b[0m fy_50\n",
      "File \u001b[0;32m~/.local/lib/python3.8/site-packages/pandas/util/_decorators.py:311\u001b[0m, in \u001b[0;36mdeprecate_nonkeyword_arguments.<locals>.decorate.<locals>.wrapper\u001b[0;34m(*args, **kwargs)\u001b[0m\n\u001b[1;32m    305\u001b[0m \u001b[38;5;28;01mif\u001b[39;00m \u001b[38;5;28mlen\u001b[39m(args) \u001b[38;5;241m>\u001b[39m num_allow_args:\n\u001b[1;32m    306\u001b[0m     warnings\u001b[38;5;241m.\u001b[39mwarn(\n\u001b[1;32m    307\u001b[0m         msg\u001b[38;5;241m.\u001b[39mformat(arguments\u001b[38;5;241m=\u001b[39marguments),\n\u001b[1;32m    308\u001b[0m         \u001b[38;5;167;01mFutureWarning\u001b[39;00m,\n\u001b[1;32m    309\u001b[0m         stacklevel\u001b[38;5;241m=\u001b[39mstacklevel,\n\u001b[1;32m    310\u001b[0m     )\n\u001b[0;32m--> 311\u001b[0m \u001b[38;5;28;01mreturn\u001b[39;00m \u001b[43mfunc\u001b[49m\u001b[43m(\u001b[49m\u001b[38;5;241;43m*\u001b[39;49m\u001b[43margs\u001b[49m\u001b[43m,\u001b[49m\u001b[43m \u001b[49m\u001b[38;5;241;43m*\u001b[39;49m\u001b[38;5;241;43m*\u001b[39;49m\u001b[43mkwargs\u001b[49m\u001b[43m)\u001b[49m\n",
      "File \u001b[0;32m~/.local/lib/python3.8/site-packages/pandas/io/parsers/readers.py:680\u001b[0m, in \u001b[0;36mread_csv\u001b[0;34m(filepath_or_buffer, sep, delimiter, header, names, index_col, usecols, squeeze, prefix, mangle_dupe_cols, dtype, engine, converters, true_values, false_values, skipinitialspace, skiprows, skipfooter, nrows, na_values, keep_default_na, na_filter, verbose, skip_blank_lines, parse_dates, infer_datetime_format, keep_date_col, date_parser, dayfirst, cache_dates, iterator, chunksize, compression, thousands, decimal, lineterminator, quotechar, quoting, doublequote, escapechar, comment, encoding, encoding_errors, dialect, error_bad_lines, warn_bad_lines, on_bad_lines, delim_whitespace, low_memory, memory_map, float_precision, storage_options)\u001b[0m\n\u001b[1;32m    665\u001b[0m kwds_defaults \u001b[38;5;241m=\u001b[39m _refine_defaults_read(\n\u001b[1;32m    666\u001b[0m     dialect,\n\u001b[1;32m    667\u001b[0m     delimiter,\n\u001b[0;32m   (...)\u001b[0m\n\u001b[1;32m    676\u001b[0m     defaults\u001b[38;5;241m=\u001b[39m{\u001b[38;5;124m\"\u001b[39m\u001b[38;5;124mdelimiter\u001b[39m\u001b[38;5;124m\"\u001b[39m: \u001b[38;5;124m\"\u001b[39m\u001b[38;5;124m,\u001b[39m\u001b[38;5;124m\"\u001b[39m},\n\u001b[1;32m    677\u001b[0m )\n\u001b[1;32m    678\u001b[0m kwds\u001b[38;5;241m.\u001b[39mupdate(kwds_defaults)\n\u001b[0;32m--> 680\u001b[0m \u001b[38;5;28;01mreturn\u001b[39;00m \u001b[43m_read\u001b[49m\u001b[43m(\u001b[49m\u001b[43mfilepath_or_buffer\u001b[49m\u001b[43m,\u001b[49m\u001b[43m \u001b[49m\u001b[43mkwds\u001b[49m\u001b[43m)\u001b[49m\n",
      "File \u001b[0;32m~/.local/lib/python3.8/site-packages/pandas/io/parsers/readers.py:575\u001b[0m, in \u001b[0;36m_read\u001b[0;34m(filepath_or_buffer, kwds)\u001b[0m\n\u001b[1;32m    572\u001b[0m _validate_names(kwds\u001b[38;5;241m.\u001b[39mget(\u001b[38;5;124m\"\u001b[39m\u001b[38;5;124mnames\u001b[39m\u001b[38;5;124m\"\u001b[39m, \u001b[38;5;28;01mNone\u001b[39;00m))\n\u001b[1;32m    574\u001b[0m \u001b[38;5;66;03m# Create the parser.\u001b[39;00m\n\u001b[0;32m--> 575\u001b[0m parser \u001b[38;5;241m=\u001b[39m \u001b[43mTextFileReader\u001b[49m\u001b[43m(\u001b[49m\u001b[43mfilepath_or_buffer\u001b[49m\u001b[43m,\u001b[49m\u001b[43m \u001b[49m\u001b[38;5;241;43m*\u001b[39;49m\u001b[38;5;241;43m*\u001b[39;49m\u001b[43mkwds\u001b[49m\u001b[43m)\u001b[49m\n\u001b[1;32m    577\u001b[0m \u001b[38;5;28;01mif\u001b[39;00m chunksize \u001b[38;5;129;01mor\u001b[39;00m iterator:\n\u001b[1;32m    578\u001b[0m     \u001b[38;5;28;01mreturn\u001b[39;00m parser\n",
      "File \u001b[0;32m~/.local/lib/python3.8/site-packages/pandas/io/parsers/readers.py:933\u001b[0m, in \u001b[0;36mTextFileReader.__init__\u001b[0;34m(self, f, engine, **kwds)\u001b[0m\n\u001b[1;32m    930\u001b[0m     \u001b[38;5;28mself\u001b[39m\u001b[38;5;241m.\u001b[39moptions[\u001b[38;5;124m\"\u001b[39m\u001b[38;5;124mhas_index_names\u001b[39m\u001b[38;5;124m\"\u001b[39m] \u001b[38;5;241m=\u001b[39m kwds[\u001b[38;5;124m\"\u001b[39m\u001b[38;5;124mhas_index_names\u001b[39m\u001b[38;5;124m\"\u001b[39m]\n\u001b[1;32m    932\u001b[0m \u001b[38;5;28mself\u001b[39m\u001b[38;5;241m.\u001b[39mhandles: IOHandles \u001b[38;5;241m|\u001b[39m \u001b[38;5;28;01mNone\u001b[39;00m \u001b[38;5;241m=\u001b[39m \u001b[38;5;28;01mNone\u001b[39;00m\n\u001b[0;32m--> 933\u001b[0m \u001b[38;5;28mself\u001b[39m\u001b[38;5;241m.\u001b[39m_engine \u001b[38;5;241m=\u001b[39m \u001b[38;5;28;43mself\u001b[39;49m\u001b[38;5;241;43m.\u001b[39;49m\u001b[43m_make_engine\u001b[49m\u001b[43m(\u001b[49m\u001b[43mf\u001b[49m\u001b[43m,\u001b[49m\u001b[43m \u001b[49m\u001b[38;5;28;43mself\u001b[39;49m\u001b[38;5;241;43m.\u001b[39;49m\u001b[43mengine\u001b[49m\u001b[43m)\u001b[49m\n",
      "File \u001b[0;32m~/.local/lib/python3.8/site-packages/pandas/io/parsers/readers.py:1217\u001b[0m, in \u001b[0;36mTextFileReader._make_engine\u001b[0;34m(self, f, engine)\u001b[0m\n\u001b[1;32m   1213\u001b[0m     mode \u001b[38;5;241m=\u001b[39m \u001b[38;5;124m\"\u001b[39m\u001b[38;5;124mrb\u001b[39m\u001b[38;5;124m\"\u001b[39m\n\u001b[1;32m   1214\u001b[0m \u001b[38;5;66;03m# error: No overload variant of \"get_handle\" matches argument types\u001b[39;00m\n\u001b[1;32m   1215\u001b[0m \u001b[38;5;66;03m# \"Union[str, PathLike[str], ReadCsvBuffer[bytes], ReadCsvBuffer[str]]\"\u001b[39;00m\n\u001b[1;32m   1216\u001b[0m \u001b[38;5;66;03m# , \"str\", \"bool\", \"Any\", \"Any\", \"Any\", \"Any\", \"Any\"\u001b[39;00m\n\u001b[0;32m-> 1217\u001b[0m \u001b[38;5;28mself\u001b[39m\u001b[38;5;241m.\u001b[39mhandles \u001b[38;5;241m=\u001b[39m \u001b[43mget_handle\u001b[49m\u001b[43m(\u001b[49m\u001b[43m  \u001b[49m\u001b[38;5;66;43;03m# type: ignore[call-overload]\u001b[39;49;00m\n\u001b[1;32m   1218\u001b[0m \u001b[43m    \u001b[49m\u001b[43mf\u001b[49m\u001b[43m,\u001b[49m\n\u001b[1;32m   1219\u001b[0m \u001b[43m    \u001b[49m\u001b[43mmode\u001b[49m\u001b[43m,\u001b[49m\n\u001b[1;32m   1220\u001b[0m \u001b[43m    \u001b[49m\u001b[43mencoding\u001b[49m\u001b[38;5;241;43m=\u001b[39;49m\u001b[38;5;28;43mself\u001b[39;49m\u001b[38;5;241;43m.\u001b[39;49m\u001b[43moptions\u001b[49m\u001b[38;5;241;43m.\u001b[39;49m\u001b[43mget\u001b[49m\u001b[43m(\u001b[49m\u001b[38;5;124;43m\"\u001b[39;49m\u001b[38;5;124;43mencoding\u001b[39;49m\u001b[38;5;124;43m\"\u001b[39;49m\u001b[43m,\u001b[49m\u001b[43m \u001b[49m\u001b[38;5;28;43;01mNone\u001b[39;49;00m\u001b[43m)\u001b[49m\u001b[43m,\u001b[49m\n\u001b[1;32m   1221\u001b[0m \u001b[43m    \u001b[49m\u001b[43mcompression\u001b[49m\u001b[38;5;241;43m=\u001b[39;49m\u001b[38;5;28;43mself\u001b[39;49m\u001b[38;5;241;43m.\u001b[39;49m\u001b[43moptions\u001b[49m\u001b[38;5;241;43m.\u001b[39;49m\u001b[43mget\u001b[49m\u001b[43m(\u001b[49m\u001b[38;5;124;43m\"\u001b[39;49m\u001b[38;5;124;43mcompression\u001b[39;49m\u001b[38;5;124;43m\"\u001b[39;49m\u001b[43m,\u001b[49m\u001b[43m \u001b[49m\u001b[38;5;28;43;01mNone\u001b[39;49;00m\u001b[43m)\u001b[49m\u001b[43m,\u001b[49m\n\u001b[1;32m   1222\u001b[0m \u001b[43m    \u001b[49m\u001b[43mmemory_map\u001b[49m\u001b[38;5;241;43m=\u001b[39;49m\u001b[38;5;28;43mself\u001b[39;49m\u001b[38;5;241;43m.\u001b[39;49m\u001b[43moptions\u001b[49m\u001b[38;5;241;43m.\u001b[39;49m\u001b[43mget\u001b[49m\u001b[43m(\u001b[49m\u001b[38;5;124;43m\"\u001b[39;49m\u001b[38;5;124;43mmemory_map\u001b[39;49m\u001b[38;5;124;43m\"\u001b[39;49m\u001b[43m,\u001b[49m\u001b[43m \u001b[49m\u001b[38;5;28;43;01mFalse\u001b[39;49;00m\u001b[43m)\u001b[49m\u001b[43m,\u001b[49m\n\u001b[1;32m   1223\u001b[0m \u001b[43m    \u001b[49m\u001b[43mis_text\u001b[49m\u001b[38;5;241;43m=\u001b[39;49m\u001b[43mis_text\u001b[49m\u001b[43m,\u001b[49m\n\u001b[1;32m   1224\u001b[0m \u001b[43m    \u001b[49m\u001b[43merrors\u001b[49m\u001b[38;5;241;43m=\u001b[39;49m\u001b[38;5;28;43mself\u001b[39;49m\u001b[38;5;241;43m.\u001b[39;49m\u001b[43moptions\u001b[49m\u001b[38;5;241;43m.\u001b[39;49m\u001b[43mget\u001b[49m\u001b[43m(\u001b[49m\u001b[38;5;124;43m\"\u001b[39;49m\u001b[38;5;124;43mencoding_errors\u001b[39;49m\u001b[38;5;124;43m\"\u001b[39;49m\u001b[43m,\u001b[49m\u001b[43m \u001b[49m\u001b[38;5;124;43m\"\u001b[39;49m\u001b[38;5;124;43mstrict\u001b[39;49m\u001b[38;5;124;43m\"\u001b[39;49m\u001b[43m)\u001b[49m\u001b[43m,\u001b[49m\n\u001b[1;32m   1225\u001b[0m \u001b[43m    \u001b[49m\u001b[43mstorage_options\u001b[49m\u001b[38;5;241;43m=\u001b[39;49m\u001b[38;5;28;43mself\u001b[39;49m\u001b[38;5;241;43m.\u001b[39;49m\u001b[43moptions\u001b[49m\u001b[38;5;241;43m.\u001b[39;49m\u001b[43mget\u001b[49m\u001b[43m(\u001b[49m\u001b[38;5;124;43m\"\u001b[39;49m\u001b[38;5;124;43mstorage_options\u001b[39;49m\u001b[38;5;124;43m\"\u001b[39;49m\u001b[43m,\u001b[49m\u001b[43m \u001b[49m\u001b[38;5;28;43;01mNone\u001b[39;49;00m\u001b[43m)\u001b[49m\u001b[43m,\u001b[49m\n\u001b[1;32m   1226\u001b[0m \u001b[43m\u001b[49m\u001b[43m)\u001b[49m\n\u001b[1;32m   1227\u001b[0m \u001b[38;5;28;01massert\u001b[39;00m \u001b[38;5;28mself\u001b[39m\u001b[38;5;241m.\u001b[39mhandles \u001b[38;5;129;01mis\u001b[39;00m \u001b[38;5;129;01mnot\u001b[39;00m \u001b[38;5;28;01mNone\u001b[39;00m\n\u001b[1;32m   1228\u001b[0m f \u001b[38;5;241m=\u001b[39m \u001b[38;5;28mself\u001b[39m\u001b[38;5;241m.\u001b[39mhandles\u001b[38;5;241m.\u001b[39mhandle\n",
      "File \u001b[0;32m~/.local/lib/python3.8/site-packages/pandas/io/common.py:789\u001b[0m, in \u001b[0;36mget_handle\u001b[0;34m(path_or_buf, mode, encoding, compression, memory_map, is_text, errors, storage_options)\u001b[0m\n\u001b[1;32m    784\u001b[0m \u001b[38;5;28;01melif\u001b[39;00m \u001b[38;5;28misinstance\u001b[39m(handle, \u001b[38;5;28mstr\u001b[39m):\n\u001b[1;32m    785\u001b[0m     \u001b[38;5;66;03m# Check whether the filename is to be opened in binary mode.\u001b[39;00m\n\u001b[1;32m    786\u001b[0m     \u001b[38;5;66;03m# Binary mode does not support 'encoding' and 'newline'.\u001b[39;00m\n\u001b[1;32m    787\u001b[0m     \u001b[38;5;28;01mif\u001b[39;00m ioargs\u001b[38;5;241m.\u001b[39mencoding \u001b[38;5;129;01mand\u001b[39;00m \u001b[38;5;124m\"\u001b[39m\u001b[38;5;124mb\u001b[39m\u001b[38;5;124m\"\u001b[39m \u001b[38;5;129;01mnot\u001b[39;00m \u001b[38;5;129;01min\u001b[39;00m ioargs\u001b[38;5;241m.\u001b[39mmode:\n\u001b[1;32m    788\u001b[0m         \u001b[38;5;66;03m# Encoding\u001b[39;00m\n\u001b[0;32m--> 789\u001b[0m         handle \u001b[38;5;241m=\u001b[39m \u001b[38;5;28;43mopen\u001b[39;49m\u001b[43m(\u001b[49m\n\u001b[1;32m    790\u001b[0m \u001b[43m            \u001b[49m\u001b[43mhandle\u001b[49m\u001b[43m,\u001b[49m\n\u001b[1;32m    791\u001b[0m \u001b[43m            \u001b[49m\u001b[43mioargs\u001b[49m\u001b[38;5;241;43m.\u001b[39;49m\u001b[43mmode\u001b[49m\u001b[43m,\u001b[49m\n\u001b[1;32m    792\u001b[0m \u001b[43m            \u001b[49m\u001b[43mencoding\u001b[49m\u001b[38;5;241;43m=\u001b[39;49m\u001b[43mioargs\u001b[49m\u001b[38;5;241;43m.\u001b[39;49m\u001b[43mencoding\u001b[49m\u001b[43m,\u001b[49m\n\u001b[1;32m    793\u001b[0m \u001b[43m            \u001b[49m\u001b[43merrors\u001b[49m\u001b[38;5;241;43m=\u001b[39;49m\u001b[43merrors\u001b[49m\u001b[43m,\u001b[49m\n\u001b[1;32m    794\u001b[0m \u001b[43m            \u001b[49m\u001b[43mnewline\u001b[49m\u001b[38;5;241;43m=\u001b[39;49m\u001b[38;5;124;43m\"\u001b[39;49m\u001b[38;5;124;43m\"\u001b[39;49m\u001b[43m,\u001b[49m\n\u001b[1;32m    795\u001b[0m \u001b[43m        \u001b[49m\u001b[43m)\u001b[49m\n\u001b[1;32m    796\u001b[0m     \u001b[38;5;28;01melse\u001b[39;00m:\n\u001b[1;32m    797\u001b[0m         \u001b[38;5;66;03m# Binary mode\u001b[39;00m\n\u001b[1;32m    798\u001b[0m         handle \u001b[38;5;241m=\u001b[39m \u001b[38;5;28mopen\u001b[39m(handle, ioargs\u001b[38;5;241m.\u001b[39mmode)\n",
      "\u001b[0;31mFileNotFoundError\u001b[0m: [Errno 2] No such file or directory: 'AB_3.0A.csv'"
     ]
    }
   ],
   "source": [
    "#Uncomment the original range to see more peaks outside the expected range\n",
    "file=\"\"\n",
    "post=\".csv\"\n",
    "list_suf = [25, 26, 27, 28, 29, 30, 35, 40, 45, 50, 55, 60, 65, 70, 75, 80, 85, 90, 95, 100, 105, 110]\n",
    "#csv_suf = [i/10 for i in list_suf]\n",
    "for ii in list_suf:\n",
    "    globals()['fy_%s' % str(ii)] = pd.read_csv(file+'AB_'+str(ii/10)+'A'+post, delimiter=',')\n",
    "    globals()['fy_%s' % str(ii)].columns = ['Energy', 'Intensity', 'dx', 'dy', 'dz']\n",
    "fy_50"
   ]
  },
  {
   "cell_type": "code",
   "execution_count": null,
   "metadata": {},
   "outputs": [],
   "source": [
    "list_suf = [25, 26, 27, 28, 29, 30, 35, 40, 45, 50, 55, 60, 65, 70, 75, 80, 85, 90, 95, 100, 105, 110]\n",
    "list_suf_1 = [30, 35, 40, 45, 50, 55]\n",
    "list_suf_2 = [30, 35, 40, 45, 50, 55, 60, 65]"
   ]
  },
  {
   "cell_type": "markdown",
   "metadata": {},
   "source": [
    "##### Raw spectra"
   ]
  },
  {
   "cell_type": "code",
   "execution_count": null,
   "metadata": {
    "scrolled": false
   },
   "outputs": [],
   "source": [
    "#add yft and yfc to see a broader energy range\n",
    "fig = plt.figure(figsize=(14, 10), dpi=80)\n",
    "n1 = fig.add_subplot(111)\n",
    "\n",
    "for ii in list_suf:\n",
    "    n1.scatter(globals()['fy_%s' % str(ii)][['Energy']], globals()['fy_%s' % str(ii)][['Intensity']], s=5, label=str(ii/10)+'A')\n",
    "    \n",
    "plt.xlabel('Energy (eV)')\n",
    "plt.ylabel('Intensity (Oscillator strength)')\n",
    "plt.legend(loc='upper left');\n",
    "plt.show()"
   ]
  },
  {
   "cell_type": "code",
   "execution_count": null,
   "metadata": {},
   "outputs": [],
   "source": [
    "list_suf_longer = [70, 75, 80, 85, 90, 95, 100, 105, 110]"
   ]
  },
  {
   "cell_type": "code",
   "execution_count": null,
   "metadata": {},
   "outputs": [],
   "source": [
    "#add yft and yfc to see a broader energy range\n",
    "fig = plt.figure(figsize=(14, 10), dpi=80)\n",
    "n2 = fig.add_subplot(111)\n",
    "\n",
    "for ii in list_suf_longer:\n",
    "    n2.scatter(globals()['fy_%s' % str(ii)][['Energy']], globals()['fy_%s' % str(ii)][['Intensity']], s=5, label=str(ii/10)+'A')\n",
    "    \n",
    "plt.xlabel('Energy (eV)')\n",
    "plt.ylabel('Intensity (Oscillator strength)')\n",
    "plt.legend(loc='upper left');\n",
    "plt.xlim([288,336])\n",
    "plt.show()"
   ]
  },
  {
   "cell_type": "code",
   "execution_count": null,
   "metadata": {},
   "outputs": [],
   "source": [
    "#add yft and yfc to see a broader energy range\n",
    "fig = plt.figure(figsize=(14, 10), dpi=80)\n",
    "n2 = fig.add_subplot(111)\n",
    "\n",
    "for ii in list_suf_longer:\n",
    "    n2.scatter(globals()['fy_%s' % str(ii)][['Energy']], globals()['fy_%s' % str(ii)][['Intensity']], s=5, label=str(ii/10)+'A')\n",
    "    \n",
    "plt.xlabel('Energy (eV)')\n",
    "plt.ylabel('Intensity (Oscillator strength)')\n",
    "plt.legend(loc='upper left');\n",
    "#first peak\n",
    "#plt.xlim([289,290.3]) #no changes\n",
    "#plt.ylim([0,5000])\n",
    "#second peak\n",
    "#plt.xlim([290.3,291.5]) #no changes (~200 intensity units changes)\n",
    "#plt.ylim([0,1700])\n",
    "#third peak\n",
    "#plt.xlim([299.5,302.3]) #changes! (~2000 intensity units changes)\n",
    "#plt.ylim([0,12500])\n",
    "#fourth peak\n",
    "#plt.xlim([305.5,309]) #changes! (~1000 intensity units changes)\n",
    "#plt.ylim([0,4000])\n",
    "#fifth peak\n",
    "#plt.xlim([310.7,313]) #changes! (~5000 intensity units changes)\n",
    "#plt.ylim([0,21000])\n",
    "#sixth peak\n",
    "#plt.xlim([315.5,318]) #no changes (~100 intensity units changes)\n",
    "#plt.ylim([0,650])\n",
    "#seventh peak\n",
    "#plt.xlim([318.2,319.6]) #no changes\n",
    "#plt.ylim([0,1700])\n",
    "#eighth peak\n",
    "#plt.xlim([319.7,323.7]) #changes (~5000 intensity units changes)\n",
    "#plt.ylim([0,17000])\n",
    "#ninth peak\n",
    "#plt.xlim([323.8,326]) #no changes\n",
    "#plt.ylim([0,4500])\n",
    "#tenth peak\n",
    "plt.xlim([326,331]) #no changes (~100 intensity units changes)\n",
    "plt.ylim([0,1800])\n",
    "#eleventh peak\n",
    "#plt.xlim([332,335]) #no changes (~100 intensity units changes)\n",
    "#plt.ylim([0,4000])\n",
    "#twelfth peak\n",
    "#plt.xlim([336,338]) #no changes (~10 intensity units changes)\n",
    "#plt.ylim([0,50])\n",
    "plt.show()"
   ]
  },
  {
   "cell_type": "code",
   "execution_count": null,
   "metadata": {},
   "outputs": [],
   "source": [
    "list_suf_middle = [55, 60, 65]"
   ]
  },
  {
   "cell_type": "code",
   "execution_count": null,
   "metadata": {},
   "outputs": [],
   "source": [
    "fig = plt.figure(figsize=(14, 10), dpi=80)\n",
    "n3 = fig.add_subplot(111)\n",
    "\n",
    "for ii in list_suf_middle:\n",
    "    n3.scatter(globals()['fy_%s' % str(ii)][['Energy']], globals()['fy_%s' % str(ii)][['Intensity']], s=5, label=str(ii/10)+'A')\n",
    "    \n",
    "plt.xlabel('Energy (eV)')\n",
    "plt.ylabel('Intensity (Oscillator strength)')\n",
    "plt.legend(loc='upper left');\n",
    "plt.xlim([288,338])\n",
    "#plt.xlim([288,320])\n",
    "plt.show()"
   ]
  },
  {
   "cell_type": "code",
   "execution_count": null,
   "metadata": {},
   "outputs": [],
   "source": [
    "list_suf_short = [25, 30, 35, 40, 45]#[30, 35, 40, 45, 50]#[25, "
   ]
  },
  {
   "cell_type": "code",
   "execution_count": null,
   "metadata": {},
   "outputs": [],
   "source": [
    "fig = plt.figure(figsize=(14, 10), dpi=80)\n",
    "n3 = fig.add_subplot(111)\n",
    "\n",
    "for ii in list_suf_short:\n",
    "    n3.scatter(globals()['fy_%s' % str(ii)][['Energy']], globals()['fy_%s' % str(ii)][['Intensity']], s=5, label=str(ii/10)+'A')\n",
    "    \n",
    "plt.xlabel('Energy (eV)')\n",
    "plt.ylabel('Intensity (Oscillator strength)')\n",
    "plt.legend(loc='upper left');\n",
    "plt.xlim([288,338])\n",
    "plt.show()\n"
   ]
  },
  {
   "cell_type": "markdown",
   "metadata": {},
   "source": [
    "### First section\n",
    "#### First and second peaks"
   ]
  },
  {
   "cell_type": "code",
   "execution_count": null,
   "metadata": {},
   "outputs": [],
   "source": [
    "list_suf_short1 = [25, 26, 27, 28, 29, 30, 35, 40, 45, 50, 55]\n",
    "list_suf_long1 = [60, 65, 70, 75, 80, 85, 90, 95, 100, 105, 110]"
   ]
  },
  {
   "cell_type": "code",
   "execution_count": null,
   "metadata": {},
   "outputs": [],
   "source": [
    "#add yft and yfc to see a broader energy range\n",
    "fig = plt.figure(figsize=(14, 10), dpi=80)\n",
    "n5 = fig.add_subplot(111)\n",
    "\n",
    "for ii in list_suf_short1:\n",
    "    n5.scatter(globals()['fy_%s' % str(ii)][['Energy']], globals()['fy_%s' % str(ii)][['Intensity']], s=5, label=str(ii/10)+'A')\n",
    "    \n",
    "plt.xlabel('Energy (eV)')\n",
    "plt.ylabel('Intensity (Oscillator strength)')\n",
    "plt.legend(loc='upper left');\n",
    "#first peak\n",
    "plt.xlim([288.5,297]) #no changes\n",
    "plt.ylim([0,6800])\n",
    "plt.show()"
   ]
  },
  {
   "cell_type": "code",
   "execution_count": null,
   "metadata": {},
   "outputs": [],
   "source": [
    "#add yft and yfc to see a broader energy range\n",
    "fig = plt.figure(figsize=(14, 10), dpi=80)\n",
    "n5 = fig.add_subplot(111)\n",
    "\n",
    "for ii in list_suf_long1:\n",
    "    n5.scatter(globals()['fy_%s' % str(ii)][['Energy']], globals()['fy_%s' % str(ii)][['Intensity']], s=5, label=str(ii/10)+'A')\n",
    "    \n",
    "plt.xlabel('Energy (eV)')\n",
    "plt.ylabel('Intensity (Oscillator strength)')\n",
    "plt.legend(loc='upper left');\n",
    "#first peak\n",
    "plt.xlim([288.5,293]) #no changes\n",
    "plt.ylim([0,5200])\n",
    "plt.show()"
   ]
  },
  {
   "cell_type": "code",
   "execution_count": null,
   "metadata": {},
   "outputs": [],
   "source": [
    "fy_30[['Energy','Intensity']][0:400].max()"
   ]
  },
  {
   "cell_type": "markdown",
   "metadata": {},
   "source": [
    "### Second section\n",
    "#### Third peak"
   ]
  },
  {
   "cell_type": "code",
   "execution_count": null,
   "metadata": {},
   "outputs": [],
   "source": [
    "list_suf_short2 = [25, 26, 27, 28, 29, 30, 35, 40]\n",
    "list_suf_middle2 = [30, 35, 40, 45, 50, 55, 60, 65]\n",
    "list_suf_long2 = [60, 65, 70, 75, 80, 85, 90, 95, 100, 105, 110]"
   ]
  },
  {
   "cell_type": "code",
   "execution_count": null,
   "metadata": {},
   "outputs": [],
   "source": [
    "#add yft and yfc to see a broader energy range\n",
    "fig = plt.figure(figsize=(14, 10), dpi=80)\n",
    "n5 = fig.add_subplot(111)\n",
    "\n",
    "for ii in list_suf_short2:\n",
    "    n5.scatter(globals()['fy_%s' % str(ii)][['Energy']], globals()['fy_%s' % str(ii)][['Intensity']], s=5, label=str(ii/10)+'A')\n",
    "    \n",
    "plt.xlabel('Energy (eV)')\n",
    "plt.ylabel('Intensity (Oscillator strength)')\n",
    "plt.legend(loc='upper left');\n",
    "#second section\n",
    "plt.xlim([299.6,303.5]) #no changes\n",
    "plt.ylim([0,12700])\n",
    "plt.show()"
   ]
  },
  {
   "cell_type": "code",
   "execution_count": null,
   "metadata": {},
   "outputs": [],
   "source": [
    "#add yft and yfc to see a broader energy range\n",
    "fig = plt.figure(figsize=(14, 10), dpi=80)\n",
    "n5 = fig.add_subplot(111)\n",
    "\n",
    "for ii in list_suf_middle2:\n",
    "    n5.scatter(globals()['fy_%s' % str(ii)][['Energy']], globals()['fy_%s' % str(ii)][['Intensity']], s=5, label=str(ii/10)+'A')\n",
    "    \n",
    "plt.xlabel('Energy (eV)')\n",
    "plt.ylabel('Intensity (Oscillator strength)')\n",
    "plt.legend(loc='upper left');\n",
    "#second section\n",
    "plt.xlim([299.6,302.1]) #no changes\n",
    "plt.ylim([0,12300])\n",
    "plt.show()"
   ]
  },
  {
   "cell_type": "code",
   "execution_count": null,
   "metadata": {},
   "outputs": [],
   "source": [
    "#add yft and yfc to see a broader energy range\n",
    "fig = plt.figure(figsize=(14, 10), dpi=80)\n",
    "n5 = fig.add_subplot(111)\n",
    "\n",
    "for ii in list_suf_long2:\n",
    "    n5.scatter(globals()['fy_%s' % str(ii)][['Energy']], globals()['fy_%s' % str(ii)][['Intensity']], s=5, label=str(ii/10)+'A')\n",
    "    \n",
    "plt.xlabel('Energy (eV)')\n",
    "plt.ylabel('Intensity (Oscillator strength)')\n",
    "plt.legend(loc='upper left');\n",
    "#first peak\n",
    "plt.xlim([299.6,302.1]) #no changes\n",
    "plt.ylim([0,12500])\n",
    "plt.show()"
   ]
  },
  {
   "cell_type": "markdown",
   "metadata": {},
   "source": [
    "### Third section\n",
    "#### Fourth peak"
   ]
  },
  {
   "cell_type": "code",
   "execution_count": null,
   "metadata": {},
   "outputs": [],
   "source": [
    "list_suf_shorter3 = [25, 26, 27, 28, 29, 30]\n",
    "list_suf_short3 = [30, 35, 40, 45, 50]\n",
    "list_suf_outlier3 = [25, 55, 60]\n",
    "list_suf_long3 = [65, 70, 75, 80, 85, 90, 95, 100, 105, 110]"
   ]
  },
  {
   "cell_type": "code",
   "execution_count": null,
   "metadata": {},
   "outputs": [],
   "source": [
    "#add yft and yfc to see a broader energy range\n",
    "fig = plt.figure(figsize=(14, 10), dpi=80)\n",
    "n5 = fig.add_subplot(111)\n",
    "\n",
    "for ii in list_suf_shorter3:\n",
    "    n5.scatter(globals()['fy_%s' % str(ii)][['Energy']], globals()['fy_%s' % str(ii)][['Intensity']], s=5, label=str(ii/10)+'A')\n",
    "    \n",
    "plt.xlabel('Energy (eV)')\n",
    "plt.ylabel('Intensity (Oscillator strength)')\n",
    "plt.legend(loc='upper left');\n",
    "#first peak\n",
    "plt.xlim([305.6,308]) #no changes\n",
    "plt.ylim([0,4000])\n",
    "#fourth peak\n",
    "#plt.xlim([305.5,309]) #changes! (~1000 intensity units changes)\n",
    "#plt.ylim([0,3000])\n",
    "plt.show()"
   ]
  },
  {
   "cell_type": "code",
   "execution_count": null,
   "metadata": {},
   "outputs": [],
   "source": [
    "#add yft and yfc to see a broader energy range\n",
    "fig = plt.figure(figsize=(14, 10), dpi=80)\n",
    "n5 = fig.add_subplot(111)\n",
    "\n",
    "for ii in list_suf_short3:\n",
    "    n5.scatter(globals()['fy_%s' % str(ii)][['Energy']], globals()['fy_%s' % str(ii)][['Intensity']], s=5, label=str(ii/10)+'A')\n",
    "    \n",
    "plt.xlabel('Energy (eV)')\n",
    "plt.ylabel('Intensity (Oscillator strength)')\n",
    "plt.legend(loc='upper left');\n",
    "#first peak\n",
    "plt.xlim([305.6,308]) #no changes\n",
    "plt.ylim([0,4000])\n",
    "#fourth peak\n",
    "#plt.xlim([305.5,309]) #changes! (~1000 intensity units changes)\n",
    "#plt.ylim([0,3000])\n",
    "plt.show()"
   ]
  },
  {
   "cell_type": "code",
   "execution_count": null,
   "metadata": {},
   "outputs": [],
   "source": [
    "#add yft and yfc to see a broader energy range\n",
    "fig = plt.figure(figsize=(14, 10), dpi=80)\n",
    "n5 = fig.add_subplot(111)\n",
    "\n",
    "for ii in list_suf_middle3:\n",
    "    n5.scatter(globals()['fy_%s' % str(ii)][['Energy']], globals()['fy_%s' % str(ii)][['Intensity']], s=5, label=str(ii/10)+'A')\n",
    "    \n",
    "plt.xlabel('Energy (eV)')\n",
    "plt.ylabel('Intensity (Oscillator strength)')\n",
    "plt.legend(loc='upper left');\n",
    "#first peak\n",
    "plt.xlim([305.6,308]) #no changes\n",
    "plt.ylim([0,5000])\n",
    "plt.show()"
   ]
  },
  {
   "cell_type": "code",
   "execution_count": null,
   "metadata": {},
   "outputs": [],
   "source": [
    "#add yft and yfc to see a broader energy range\n",
    "fig = plt.figure(figsize=(14, 10), dpi=80)\n",
    "n5 = fig.add_subplot(111)\n",
    "\n",
    "for ii in list_suf_long3:\n",
    "    n5.scatter(globals()['fy_%s' % str(ii)][['Energy']], globals()['fy_%s' % str(ii)][['Intensity']], s=5, label=str(ii/10)+'A')\n",
    "    \n",
    "plt.xlabel('Energy (eV)')\n",
    "plt.ylabel('Intensity (Oscillator strength)')\n",
    "plt.legend(loc='upper left');\n",
    "#first peak\n",
    "plt.xlim([305.5,308]) #no changes\n",
    "plt.ylim([0,4000])\n",
    "plt.show()"
   ]
  },
  {
   "cell_type": "markdown",
   "metadata": {},
   "source": [
    "### Fourth section\n",
    "#### Fifth peak"
   ]
  },
  {
   "cell_type": "code",
   "execution_count": null,
   "metadata": {},
   "outputs": [],
   "source": [
    "list_suf_short4 = [25, 26, 27, 28, 29, 30, 35, 40, 45, 50, 55]\n",
    "list_suf_long4 = [60, 65, 70, 75, 80, 85, 90, 95, 100, 105, 110]"
   ]
  },
  {
   "cell_type": "code",
   "execution_count": null,
   "metadata": {},
   "outputs": [],
   "source": [
    "fig = plt.figure(figsize=(14, 10), dpi=80)\n",
    "n5 = fig.add_subplot(111)\n",
    "\n",
    "for ii in list_suf_short4:\n",
    "    n5.scatter(globals()['fy_%s' % str(ii)][['Energy']], globals()['fy_%s' % str(ii)][['Intensity']], s=5, label=str(ii/10)+'A')\n",
    "    \n",
    "plt.xlabel('Energy (eV)')\n",
    "plt.ylabel('Intensity (Oscillator strength)')\n",
    "plt.legend(loc='upper left');\n",
    "plt.xlim([309.9,318.6])#315\n",
    "plt.ylim([0,21000])\n",
    "#fifth peak\n",
    "#plt.xlim([310.7,313]) #changes! (~5000 intensity units changes)\n",
    "#plt.ylim([0,21000])\n",
    "plt.show()"
   ]
  },
  {
   "cell_type": "code",
   "execution_count": null,
   "metadata": {},
   "outputs": [],
   "source": [
    "fig = plt.figure(figsize=(14, 10), dpi=80)\n",
    "n5 = fig.add_subplot(111)\n",
    "\n",
    "for ii in list_suf_long4:\n",
    "    n5.scatter(globals()['fy_%s' % str(ii)][['Energy']], globals()['fy_%s' % str(ii)][['Intensity']], s=5, label=str(ii/10)+'A')\n",
    "    \n",
    "plt.xlabel('Energy (eV)')\n",
    "plt.ylabel('Intensity (Oscillator strength)')\n",
    "plt.legend(loc='upper left');\n",
    "#plt.xlim([309.9,315.1])\n",
    "plt.xlim([309.9,313])\n",
    "plt.ylim([0,21000])\n",
    "plt.show()"
   ]
  },
  {
   "cell_type": "markdown",
   "metadata": {},
   "source": [
    "### Fifth section\n",
    "#### sixth and seventh peaks"
   ]
  },
  {
   "cell_type": "code",
   "execution_count": null,
   "metadata": {},
   "outputs": [],
   "source": [
    "list_suf_long5 = [27, 28, 29, 30, 35, 40, 45, 50, 55, 60, 65, 70, 75, 80, 85, 90, 95, 100, 105, 110]\n",
    "list_suf_outlier5 = [25, 26, 27, 28, 29, 30, 35, 40, 45]"
   ]
  },
  {
   "cell_type": "code",
   "execution_count": null,
   "metadata": {},
   "outputs": [],
   "source": [
    "fig = plt.figure(figsize=(14, 10), dpi=80)\n",
    "n5 = fig.add_subplot(111)\n",
    "\n",
    "for ii in list_suf_long5:\n",
    "    if ii<30:\n",
    "        n5.scatter(globals()['fy_%s' % str(ii)][['Energy']][:1630], globals()['fy_%s' % str(ii)][['Intensity']][:1630], s=5, label=str(ii/10)+'A')\n",
    "    elif ii<45 and ii>30:\n",
    "        n5.scatter(globals()['fy_%s' % str(ii)][['Energy']][:1530], globals()['fy_%s' % str(ii)][['Intensity']][:1530], s=5, label=str(ii/10)+'A')\n",
    "    else:\n",
    "        n5.scatter(globals()['fy_%s' % str(ii)][['Energy']][:1485], globals()['fy_%s' % str(ii)][['Intensity']][:1485], s=5, label=str(ii/10)+'A')\n",
    "    \n",
    "plt.xlabel('Energy (eV)')\n",
    "plt.ylabel('Intensity (Oscillator strength)')\n",
    "plt.legend(loc='upper left');\n",
    "plt.xlim([315.8,320.1])\n",
    "plt.ylim([0,650])\n",
    "#sixth peak\n",
    "#plt.xlim([315.5,318]) #no changes (~100 intensity units changes)\n",
    "#plt.ylim([0,650])\n",
    "#seventh peak\n",
    "#plt.xlim([318.2,319.6]) #no changes\n",
    "#plt.ylim([0,1700])\n",
    "plt.show()"
   ]
  },
  {
   "cell_type": "code",
   "execution_count": null,
   "metadata": {},
   "outputs": [],
   "source": [
    "fig = plt.figure(figsize=(14, 10), dpi=80)\n",
    "n5 = fig.add_subplot(111)\n",
    "\n",
    "for ii in list_suf_outlier5:\n",
    "        n5.scatter(globals()['fy_%s' % str(ii)][['Energy']], globals()['fy_%s' % str(ii)][['Intensity']], s=5, label=str(ii/10)+'A')\n",
    "    \n",
    "plt.xlabel('Energy (eV)')\n",
    "plt.ylabel('Intensity (Oscillator strength)')\n",
    "plt.legend(loc='upper left');\n",
    "plt.xlim([315.8,323.1])\n",
    "plt.ylim([0,11650])\n",
    "plt.show()"
   ]
  },
  {
   "cell_type": "markdown",
   "metadata": {},
   "source": [
    "### Sixth section\n",
    "#### eighth and ninth peaks"
   ]
  },
  {
   "cell_type": "code",
   "execution_count": null,
   "metadata": {},
   "outputs": [],
   "source": [
    "list_suf_short6 = [35, 40, 45]\n",
    "list_suf_outlier6 = [25, 26, 27, 28, 29, 30]\n",
    "list_suf_middle6 = [50, 55, 60]\n",
    "list_suf_long6 = [65, 70, 75, 80, 85, 90, 95, 100, 105, 110]"
   ]
  },
  {
   "cell_type": "code",
   "execution_count": null,
   "metadata": {},
   "outputs": [],
   "source": [
    "fig = plt.figure(figsize=(14, 10), dpi=80)\n",
    "n5 = fig.add_subplot(111)\n",
    "\n",
    "for ii in list_suf_short6:\n",
    "    n5.scatter(globals()['fy_%s' % str(ii)][['Energy']], globals()['fy_%s' % str(ii)][['Intensity']], s=5, label=str(ii/10)+'A')\n",
    "\n",
    "plt.xlabel('Energy (eV)')\n",
    "plt.ylabel('Intensity (Oscillator strength)')\n",
    "plt.legend(loc='upper left');\n",
    "plt.xlim([318.5,327])\n",
    "plt.ylim([0,25500])\n",
    "#eighth peak\n",
    "#plt.xlim([319.7,323.7]) #changes (~5000 intensity units changes)\n",
    "#plt.ylim([0,19000])\n",
    "#ninth peak\n",
    "#plt.xlim([323.8,326]) #no changes\n",
    "#plt.ylim([0,4500])\n",
    "plt.show()"
   ]
  },
  {
   "cell_type": "code",
   "execution_count": null,
   "metadata": {},
   "outputs": [],
   "source": [
    "fig = plt.figure(figsize=(14, 10), dpi=80)\n",
    "n5 = fig.add_subplot(111)\n",
    "\n",
    "for ii in list_suf_middle6:\n",
    "    n5.scatter(globals()['fy_%s' % str(ii)][['Energy']], globals()['fy_%s' % str(ii)][['Intensity']], s=5, label=str(ii/10)+'A')\n",
    "    \n",
    "plt.xlabel('Energy (eV)')\n",
    "plt.ylabel('Intensity (Oscillator strength)')\n",
    "plt.legend(loc='upper left');\n",
    "plt.xlim([318.5,327])\n",
    "plt.ylim([0,23500])\n",
    "\n",
    "plt.show()"
   ]
  },
  {
   "cell_type": "code",
   "execution_count": null,
   "metadata": {},
   "outputs": [],
   "source": [
    "fig = plt.figure(figsize=(14, 10), dpi=80)\n",
    "n5 = fig.add_subplot(111)\n",
    "\n",
    "for ii in list_suf_long6:\n",
    "    n5.scatter(globals()['fy_%s' % str(ii)][['Energy']], globals()['fy_%s' % str(ii)][['Intensity']], s=5, label=str(ii/10)+'A')\n",
    "    \n",
    "plt.xlabel('Energy (eV)')\n",
    "plt.ylabel('Intensity (Oscillator strength)')\n",
    "plt.legend(loc='upper left');\n",
    "plt.xlim([318.5,327])\n",
    "plt.ylim([0,16800])\n",
    "\n",
    "plt.show()"
   ]
  },
  {
   "cell_type": "code",
   "execution_count": null,
   "metadata": {},
   "outputs": [],
   "source": [
    "fig = plt.figure(figsize=(14, 10), dpi=80)\n",
    "n5 = fig.add_subplot(111)\n",
    "\n",
    "for ii in list_suf_outlier6:\n",
    "    if 30>ii:\n",
    "        n5.scatter(globals()['fy_%s' % str(ii)][['Energy']], globals()['fy_%s' % str(ii)][['Intensity']], s=5, label=str(ii/10)+'A')\n",
    "    else:\n",
    "        n5.scatter(globals()['fy_%s' % str(ii)][['Energy']][:1888], globals()['fy_%s' % str(ii)][['Intensity']][:1888], s=5, label=str(ii/10)+'A')\n",
    "    \n",
    "plt.xlabel('Energy (eV)')\n",
    "plt.ylabel('Intensity (Oscillator strength)')\n",
    "plt.legend(loc='upper left');\n",
    "plt.xlim([318.5,327])\n",
    "plt.ylim([0,17800])\n",
    "\n",
    "plt.show()"
   ]
  },
  {
   "cell_type": "markdown",
   "metadata": {},
   "source": [
    "### Seventh section\n",
    "#### tenth peak"
   ]
  },
  {
   "cell_type": "code",
   "execution_count": null,
   "metadata": {},
   "outputs": [],
   "source": [
    "list_suf_middle7 = [50, 55, 60, 65]\n",
    "list_suf_long7 = [65, 70, 75, 80, 85, 90, 95, 100, 105, 110]\n",
    "list_suf_outlier7 = [25, 26, 27, 28, 29, 30, 35, 40, 45]"
   ]
  },
  {
   "cell_type": "code",
   "execution_count": null,
   "metadata": {},
   "outputs": [],
   "source": [
    "fig = plt.figure(figsize=(14, 10), dpi=80)\n",
    "n5 = fig.add_subplot(111)\n",
    "\n",
    "for ii in list_suf_middle7:\n",
    "    n5.scatter(globals()['fy_%s' % str(ii)][['Energy']], globals()['fy_%s' % str(ii)][['Intensity']], s=5, label=str(ii/10)+'A')\n",
    "    \n",
    "plt.xlabel('Energy (eV)')\n",
    "plt.ylabel('Intensity (Oscillator strength)')\n",
    "plt.legend(loc='upper left');\n",
    "plt.xlim([326.8,332])#331\n",
    "plt.ylim([0,1800])\n",
    "#tenth peak\n",
    "#plt.xlim([326,331]) #no changes (~100 intensity units changes)\n",
    "#plt.ylim([0,1800])\n",
    "plt.show()"
   ]
  },
  {
   "cell_type": "code",
   "execution_count": null,
   "metadata": {},
   "outputs": [],
   "source": [
    "fig = plt.figure(figsize=(14, 10), dpi=80)\n",
    "n5 = fig.add_subplot(111)\n",
    "\n",
    "for ii in list_suf_long7:\n",
    "    n5.scatter(globals()['fy_%s' % str(ii)][['Energy']], globals()['fy_%s' % str(ii)][['Intensity']], s=5, label=str(ii/10)+'A')\n",
    "    \n",
    "plt.xlabel('Energy (eV)')\n",
    "plt.ylabel('Intensity (Oscillator strength)')\n",
    "plt.legend(loc='upper left');\n",
    "plt.xlim([326.8,331])\n",
    "plt.ylim([0,1800])\n",
    "\n",
    "plt.show()"
   ]
  },
  {
   "cell_type": "code",
   "execution_count": null,
   "metadata": {},
   "outputs": [],
   "source": [
    "fig = plt.figure(figsize=(14, 10), dpi=80)\n",
    "n5 = fig.add_subplot(111)\n",
    "\n",
    "for ii in list_suf_outlier7:\n",
    "    \n",
    "    n5.scatter(globals()['fy_%s' % str(ii)][['Energy']], globals()['fy_%s' % str(ii)][['Intensity']], s=5, label=str(ii/10)+'A')\n",
    "    \n",
    "plt.xlabel('Energy (eV)')\n",
    "plt.ylabel('Intensity (Oscillator strength)')\n",
    "plt.legend(loc='upper left');\n",
    "plt.xlim([326,336])\n",
    "plt.ylim([0,5000])\n",
    "\n",
    "plt.show()"
   ]
  },
  {
   "cell_type": "markdown",
   "metadata": {},
   "source": [
    "### Eighth section\n",
    "#### eleventh and twelfth peaks"
   ]
  },
  {
   "cell_type": "code",
   "execution_count": null,
   "metadata": {},
   "outputs": [],
   "source": [
    "list_suf_outlier8 = [25, 26, 27, 28, 29, 30, 35, 40, 45]\n",
    "list_suf_middle8 = [40, 45, 50, 55, 60, 65]\n",
    "list_suf_long8 = [60, 65, 70, 75, 80, 85, 90, 95, 100, 105, 110]"
   ]
  },
  {
   "cell_type": "code",
   "execution_count": null,
   "metadata": {},
   "outputs": [],
   "source": [
    "fig = plt.figure(figsize=(14, 10), dpi=80)\n",
    "n5 = fig.add_subplot(111)\n",
    "\n",
    "for ii in list_suf_outlier8:\n",
    "    n5.scatter(globals()['fy_%s' % str(ii)][['Energy']], globals()['fy_%s' % str(ii)][['Intensity']], s=5, label=str(ii/10)+'A')\n",
    "    \n",
    "plt.xlabel('Energy (eV)')\n",
    "plt.ylabel('Intensity (Oscillator strength)')\n",
    "plt.legend(loc='upper left');\n",
    "plt.xlim([328,338])#348\n",
    "plt.ylim([0,6000])\n",
    "#eleventh peak\n",
    "#plt.xlim([332,335]) #no changes (~100 intensity units changes)\n",
    "#plt.ylim([0,4000])\n",
    "#twelfth peak\n",
    "#plt.xlim([336,338]) #no changes (~10 intensity units changes)\n",
    "#plt.ylim([0,50])\n",
    "plt.show()"
   ]
  },
  {
   "cell_type": "code",
   "execution_count": null,
   "metadata": {},
   "outputs": [],
   "source": [
    "fig = plt.figure(figsize=(14, 10), dpi=80)\n",
    "n5 = fig.add_subplot(111)\n",
    "\n",
    "for ii in list_suf_middle8:\n",
    "    n5.scatter(globals()['fy_%s' % str(ii)][['Energy']], globals()['fy_%s' % str(ii)][['Intensity']], s=5, label=str(ii/10)+'A')\n",
    "    \n",
    "plt.xlabel('Energy (eV)')\n",
    "plt.ylabel('Intensity (Oscillator strength)')\n",
    "plt.legend(loc='upper left');\n",
    "plt.xlim([331,335])\n",
    "plt.ylim([0,3000])\n",
    "\n",
    "plt.show()"
   ]
  },
  {
   "cell_type": "code",
   "execution_count": null,
   "metadata": {},
   "outputs": [],
   "source": [
    "fig = plt.figure(figsize=(14, 10), dpi=80)\n",
    "n5 = fig.add_subplot(111)\n",
    "\n",
    "for ii in list_suf_long8:\n",
    "    n5.scatter(globals()['fy_%s' % str(ii)][['Energy']], globals()['fy_%s' % str(ii)][['Intensity']], s=5, label=str(ii/10)+'A')\n",
    "    \n",
    "plt.xlabel('Energy (eV)')\n",
    "plt.ylabel('Intensity (Oscillator strength)')\n",
    "plt.legend(loc='upper left');\n",
    "plt.xlim([331,335])\n",
    "plt.ylim([0,4000])\n",
    "\n",
    "plt.show()"
   ]
  },
  {
   "cell_type": "code",
   "execution_count": null,
   "metadata": {},
   "outputs": [],
   "source": []
  },
  {
   "cell_type": "code",
   "execution_count": null,
   "metadata": {},
   "outputs": [],
   "source": []
  },
  {
   "cell_type": "markdown",
   "metadata": {},
   "source": [
    "### Relative intensities"
   ]
  },
  {
   "cell_type": "code",
   "execution_count": null,
   "metadata": {},
   "outputs": [],
   "source": [
    "max_10fy = g10fy[['Intensity']].max()\n",
    "max_9fy = g9fgy[['Intensity']].max()\n",
    "max_8fy = g8fg2y[['Intensity']].max()\n",
    "max_7fy = g7fg3y[['Intensity']].max()\n",
    "max_6fy = g6fg4y[['Intensity']].max()\n",
    "max_5fy = g5fg5y[['Intensity']].max()\n",
    "max_4fy = g4fg6y[['Intensity']].max()\n",
    "max_3fy = g3fg7y[['Intensity']].max()\n",
    "max_2fy = g2fg8y[['Intensity']].max()\n",
    "max_10f = g10fg[['Intensity']].max()\n",
    "max_10y = g11y[['Intensity']].max()"
   ]
  },
  {
   "cell_type": "code",
   "execution_count": null,
   "metadata": {},
   "outputs": [],
   "source": [
    "#add yft and yfc to see a broader energy range\n",
    "fig = plt.figure(figsize=(14, 10), dpi=80)\n",
    "n2 = fig.add_subplot(111)\n",
    "n2.scatter(g10fy[['Energy']],g10fy[['Intensity']]/max_10fy, s=5, label='G10FY')\n",
    "n2.scatter(g9fgy[['Energy']],g9fgy[['Intensity']]/max_9fy, s=5, label='G9FGY')\n",
    "#n2.scatter(g8fg2y[['Energy']],g8fg2y[['Intensity']]/max_8fy, s=5, label='G8FG2Y')\n",
    "n2.scatter(g7fg3y[['Energy']],g7fg3y[['Intensity']]/max_7fy, s=5, label='G7FG3Y')\n",
    "#n2.scatter(g6fg4y[['Energy']],g6fg4y[['Intensity']]/max_6fy, s=5, label='G6FG4Y')\n",
    "n2.scatter(g5fg5y[['Energy']],g5fg5y[['Intensity']]/max_5fy, s=5, label='G5FG5Y')\n",
    "#n2.scatter(g4fg6y[['Energy']],g4fg6y[['Intensity']]/max_4fy, s=5, label='G4FG6Y')\n",
    "#n2.scatter(g3fg7y[['Energy']],g3fg7y[['Intensity']]/max_3fy, s=5, label='G3FG7Y')\n",
    "#n2.scatter(g2fg8y[['Energy']],g2fg8y[['Intensity']]/max_2fy, s=5, label='G2FG8Y')\n",
    "\n",
    "plt.xlabel('Energy (eV)')\n",
    "plt.ylabel('Relative intensity')\n",
    "plt.legend(loc='upper left');\n",
    "plt.xlim([283.5,291])\n",
    "plt.show()"
   ]
  },
  {
   "cell_type": "code",
   "execution_count": null,
   "metadata": {},
   "outputs": [],
   "source": []
  },
  {
   "cell_type": "code",
   "execution_count": null,
   "metadata": {},
   "outputs": [],
   "source": []
  },
  {
   "cell_type": "code",
   "execution_count": null,
   "metadata": {},
   "outputs": [],
   "source": [
    "#Uncomment the original range to see more peaks outside the expected range\n",
    "file=\"w.02/\"\n",
    "post=\".csv\"\n",
    "g10py_02 = pd.read_csv(file+'G10PY'+post, delimiter=',')\n",
    "g10py_01 = pd.read_csv(file+'G10PY_1'+post, delimiter=',')\n",
    "g10py_005 = pd.read_csv(file+'G10PY_05'+post, delimiter=',')\n",
    "g10py_001 = pd.read_csv(file+'G10PY_01'+post, delimiter=',')\n",
    "\n",
    "g10py_02.columns = ['Energy', 'Intensity', 'dx', 'dy', 'dz']\n",
    "g10py_01.columns = ['Energy', 'Intensity', 'dx', 'dy', 'dz']\n",
    "g10py_005.columns = ['Energy', 'Intensity', 'dx', 'dy', 'dz']\n",
    "g10py_001.columns = ['Energy', 'Intensity', 'dx', 'dy', 'dz']"
   ]
  },
  {
   "cell_type": "code",
   "execution_count": null,
   "metadata": {},
   "outputs": [],
   "source": [
    "#add yft and yfc to see a broader energy range\n",
    "fig = plt.figure(figsize=(14, 10), dpi=80)\n",
    "n2 = fig.add_subplot(111)\n",
    "n2.scatter(g10py[['Energy']],g10py[['Intensity']], s=5, label='G10PY')\n",
    "#n2.scatter(g10py_02[['Energy']],g10py_02[['Intensity']], s=5, label='G10PY w 0.2')\n",
    "#n2.scatter(g10py_01[['Energy']],g10py_01[['Intensity']], s=5, label='G10PY w 0.1')\n",
    "#n2.scatter(g10py_005[['Energy']],g10py_005[['Intensity']]/1, s=5, label='G10PY w 0.05')\n",
    "#n2.scatter(g10py_001[['Energy']],g10py_001[['Intensity']]/1, s=5, label='G10PY w 0.01')\n",
    "plt.xlabel('Energy (eV)')\n",
    "plt.ylabel('Intensity (Oscillator strength)')\n",
    "plt.legend(loc='upper left');\n",
    "#plt.xlim([289.5,289.9])\n",
    "plt.show()"
   ]
  },
  {
   "cell_type": "code",
   "execution_count": null,
   "metadata": {},
   "outputs": [],
   "source": []
  }
 ],
 "metadata": {
  "kernelspec": {
   "display_name": "Python 3 (ipykernel)",
   "language": "python",
   "name": "python3"
  },
  "language_info": {
   "codemirror_mode": {
    "name": "ipython",
    "version": 3
   },
   "file_extension": ".py",
   "mimetype": "text/x-python",
   "name": "python",
   "nbconvert_exporter": "python",
   "pygments_lexer": "ipython3",
   "version": "3.8.10"
  }
 },
 "nbformat": 4,
 "nbformat_minor": 5
}
